{
 "cells": [
  {
   "cell_type": "markdown",
   "metadata": {},
   "source": [
    "## Reproducible file accompanying the paper\n",
    "# OPTIMAL RECOVERY FROM INACCURATE DATA IN HILBERT SPACES: REGULARIZE, BUT WHAT OF THE PARAMETER?\n",
    "By S. Foucart and C. Liao."
   ]
  },
  {
   "cell_type": "markdown",
   "metadata": {},
   "source": [
    "This reproducible was written by S. Foucart and C. Liao in November 2021.\n",
    "\n",
    "CVXPY [2] is required to execute this reproducible."
   ]
  },
  {
   "cell_type": "code",
   "execution_count": 1,
   "metadata": {},
   "outputs": [],
   "source": [
    "import numpy as np\n",
    "from scipy import linalg as LA\n",
    "import cvxpy as cp\n",
    "import matplotlib.pyplot as plt"
   ]
  },
  {
   "cell_type": "markdown",
   "metadata": {},
   "source": [
    "## L1: Locally optimal recovery in a complex Hilbert space with arbitrary observations"
   ]
  },
  {
   "cell_type": "markdown",
   "metadata": {},
   "source": [
    "WIth $H$ restricted to be a complex finite-dimensional Hilbert space, the Chebyshev center of the set $\\{f\\in H:\\|P_{\\mathcal{V}^\\perp}f\\|\\leq \\varepsilon, \\|\\Lambda f-y\\|\\leq\\eta\\}$ is the solution $f_\\tau$ to\n",
    "\n",
    "$$ \\mathop{\\mathrm{minimize}}\\limits_{f\\in H} \\quad (1-\\tau)\\|P_{\\mathcal{V}^\\perp}f\\|^2+\\tau\\|\\Lambda f-y\\|^2$$\n",
    "\n",
    "for the choice $\\tau = d_\\#/(c_\\#+d_\\#)$, where $c_\\#, d_\\#$ solve the semidefinite program\n",
    "\n",
    "\\begin{align*}\n",
    "\\mathop{\\mathrm{minimize}}\\limits_{c,d,t\\geq0} \\; \\varepsilon^2c+(\\eta^2-\\|y\\|^2)d+t \\quad & \\mbox{s.to} \\quad cP_{\\mathcal{V}^\\perp}+d\\Lambda^*\\Lambda\\succeq\\mathrm{Id} \\\\ \n",
    "& \\mbox{and} \\quad  \\left[\\matrix{ c P_{\\mathcal{V}^\\perp} + d \\Lambda^* \\Lambda & | & -d \\Lambda^* y \n",
    "\\cr\n",
    "\\hline\n",
    "-d(\\Lambda^* y)^*  & | & t }\\right]\n",
    "\\succeq 0.\n",
    "\\end{align*}"
   ]
  },
  {
   "cell_type": "markdown",
   "metadata": {},
   "source": [
    "### Problem setting"
   ]
  },
  {
   "cell_type": "code",
   "execution_count": 2,
   "metadata": {},
   "outputs": [],
   "source": [
    "# dimension of the ambient Hilbert space\n",
    "N = 20\n",
    "# dimension of the approximation subspace\n",
    "n = 5\n",
    "# subspace spanned by the columns of V\n",
    "V = np.random.randn(N,n) + np.random.randn(N,n) * 1j\n",
    "# projector onto the orthogonal complement of V\n",
    "P1 = np.identity(N) - V@LA.inv(np.conjugate(V.T)@V)@np.conjugate(V.T)\n",
    "# the approximability parameter\n",
    "epsilon = 0.1\n",
    "# number of observations\n",
    "m = 10\n",
    "# the observation map (we use L instead of \\Lambda)\n",
    "L = np.random.randn(m,N) + np.random.randn(m,N) * 1j\n",
    "# the uncertainty parameter\n",
    "eta = 0.5                   \n",
    "# the original f and of its observation vector\n",
    "aux = np.random.randn(N,1)\n",
    "f = V@np.random.rand(n,1)+(epsilon/2)*aux/LA.norm(aux)\n",
    "# the inaccurate observations\n",
    "aux = np.random.randn(m,1)\n",
    "y = L@f + (2*eta/3)*aux/LA.norm(aux)"
   ]
  },
  {
   "cell_type": "markdown",
   "metadata": {},
   "source": [
    "### Computation of optimal parameters, Chebyshev centers, and local worst-case errors"
   ]
  },
  {
   "cell_type": "code",
   "execution_count": 3,
   "metadata": {},
   "outputs": [],
   "source": [
    "# A function named BE (for Beck and Eldar) is defined here.\n",
    "# It returns the optimal parameter tau, the Chebyshev center, and the local worst-case error\n",
    "def BE(epsilon,eta,y,P,L):\n",
    "    N = np.shape(P)[0]\n",
    "    L_star = np.conjugate(L.T)\n",
    "    c = cp.Variable((1,1),nonneg=True)\n",
    "    d = cp.Variable((1,1),nonneg=True)\n",
    "    t = cp.Variable((1,1),nonneg=True)\n",
    "    objective = cp.Minimize(c*epsilon**2+d*(eta**2-LA.norm(y)**2)+t)\n",
    "    a11 = cp.multiply(c,P)+cp.multiply(d,L_star@L)\n",
    "    a12 = -cp.multiply(d,L_star@y) \n",
    "    constraints = [cp.multiply(c,P)+cp.multiply(d,L_star@L)-np.identity(N)>>0]\n",
    "    constraints += [ cp.vstack( (cp.hstack((a11, a12)),cp.hstack((cp.conj(a12).T,t))) )>>0]\n",
    "    local = cp.Problem(objective,constraints)\n",
    "    local.solve()\n",
    "    c = c.value[0,0]\n",
    "    d = d.value[0,0]\n",
    "    tau = d/(c+d)\n",
    "    cheb_center = LA.solve(c*P+d*L_star@L,d*L_star@y)\n",
    "    wce = np.sqrt(c*epsilon**2-d*(LA.norm(y)**2-eta**2)+t.value[0,0])\n",
    "    return tau,cheb_center,wce"
   ]
  },
  {
   "cell_type": "code",
   "execution_count": 4,
   "metadata": {},
   "outputs": [
    {
     "name": "stdout",
     "output_type": "stream",
     "text": [
      "With H being a complex finite-dimensional Hilbert space,\n",
      " the optimal parameter tau is 0.015 and \n",
      " the corresponding worst-case error is 0.566.\n"
     ]
    },
    {
     "name": "stderr",
     "output_type": "stream",
     "text": [
      "/Users/foucart/opt/anaconda3/lib/python3.8/site-packages/cvxpy/problems/problem.py:1294: UserWarning: Solution may be inaccurate. Try another solver, adjusting the solver settings, or solve with verbose=True for more information.\n",
      "  warnings.warn(\n"
     ]
    }
   ],
   "source": [
    "tau,cheb_center,local_wce = BE(epsilon,eta,y,P1,L)\n",
    "print('With H being a complex finite-dimensional Hilbert space,\\n ' \n",
    "      'the optimal parameter tau is {:.3f} and \\n '\n",
    "      'the corresponding worst-case error is {:.3f}.'.format(tau,local_wce))"
   ]
  },
  {
   "cell_type": "markdown",
   "metadata": {},
   "source": [
    "### Verification: the Chebyshev center does not depend linearly on y\n",
    "The locally optimal recovery map $\\mathrm{Cheb}:\\mathbb{R}^m\\to H$ that sends $y\\in\\mathbb{R}^m$ to the Chebyshev center of the above set is not linear.\n",
    "\n",
    "To check it numerically, we illustrate that $2 \\,\\mathrm{Cheb}(y)\\neq\\mathrm{Cheb}(2 y)$."
   ]
  },
  {
   "cell_type": "code",
   "execution_count": 5,
   "metadata": {},
   "outputs": [
    {
     "name": "stdout",
     "output_type": "stream",
     "text": [
      "The norm of the difference 2*Cheb(y)-Cheb(2*y) is 0.035 (not zero).\n"
     ]
    }
   ],
   "source": [
    "_,cheb_center_2y,_ = BE(epsilon,eta,2*y,P1,L)\n",
    "print('The norm of the difference 2*Cheb(y)-Cheb(2*y) '\n",
    "      'is {:.3f} (not zero).'.format(LA.norm(2*cheb_center-cheb_center_2y)))"
   ]
  },
  {
   "cell_type": "markdown",
   "metadata": {},
   "source": [
    "## L2: Locally optimal recovery map in real Hilbert space with orthonormal observations"
   ]
  },
  {
   "cell_type": "markdown",
   "metadata": {},
   "source": [
    "Under the orthonormal observations assumptions ($\\Lambda^*\\Lambda = \\mathrm{Id}_{\\mathbb{R}^m}$) but without the restriction that $H$ is a complex Hilbert space, the Chebyshev center of the set $\\{f\\in H:\\|P_{\\mathcal{V}^\\perp}f\\|\\leq\\epsilon, \\|\\Lambda f-y\\|\\leq\\eta\\}$ is the solution $f_{\\tau_\\#}$ to\n",
    "\n",
    "$$ \\mathop{\\mathrm{minimize}}\\limits_{f\\in H} \\quad (1-\\tau_\\#)\\|P_{\\mathcal{V}^\\perp}f\\|^2+\\tau_\\#\\|\\Lambda f-y\\|^2$$\n",
    "\n",
    "for the choice $\\tau_\\#$ of parameter $\\tau$ between $1/2$ and $\\varepsilon/(\\varepsilon+\\eta)$ that satisfies\n",
    "\n",
    "$$ \\lambda_{\\min} ((1-\\tau)P_{\\mathcal{V}^\\perp} + \\tau \\Lambda^* \\Lambda)\n",
    "= \\frac{(1-\\tau)^2 \\varepsilon^2 - \\tau^2 \\eta^2}{(1-\\tau) \\varepsilon^2 - \\tau \\eta^2 + (1-\\tau) \\tau (1-2 \\tau)  \\delta^2},\n",
    "$$\n",
    "\n",
    "where $\\delta$ is precomputed as $\\delta = \\min\\{ \\|P_{\\mathcal{V}^\\perp}f\\|: \\Lambda f = y \\} = \\min \\{ \\|\\Lambda f - y\\|: f \\in \\mathcal{V} \\}$.\n",
    "\n",
    "With $\\lambda_\\# := \\lambda_\\min((1-\\tau_\\#)P_{\\mathcal{V}^\\perp}+\\tau_\\#\\Lambda^*\\Lambda)$, the squared Chebyshev radius (squared local worst-case error) is $\\dfrac{1-\\tau_\\#}{\\lambda_\\#}\\varepsilon^2 + \\dfrac{\\tau_\\#}{\\lambda_\\#}\\eta^2 - \\dfrac{(1-\\tau_\\#)\\tau_\\#}{\\lambda_\\#}\\delta^2$."
   ]
  },
  {
   "cell_type": "markdown",
   "metadata": {},
   "source": [
    "### Problem setting\n",
    "We adopt the same problem setting as before, with the difference that the orthonormal observations assumption is in effect here."
   ]
  },
  {
   "cell_type": "code",
   "execution_count": 6,
   "metadata": {},
   "outputs": [],
   "source": [
    "N = 50\n",
    "n = 15\n",
    "V = np.random.randn(N,n)\n",
    "epsilon = 0.5\n",
    "m = 25\n",
    "L = np.random.randn(m,N)\n",
    "L = LA.inv(LA.sqrtm(L@L.T))@L            # so that L satisfies L*L'=I\n",
    "eta = 0.2\n",
    "aux = np.random.randn(N,1)\n",
    "f = V@np.random.rand(n,1)+(epsilon/2)*aux/LA.norm(aux)\n",
    "aux = np.random.randn(m,1)\n",
    "y = L@f + (2*eta/3)*aux/LA.norm(aux)"
   ]
  },
  {
   "cell_type": "markdown",
   "metadata": {},
   "source": [
    "### Some useful objects"
   ]
  },
  {
   "cell_type": "code",
   "execution_count": 7,
   "metadata": {},
   "outputs": [
    {
     "name": "stdout",
     "output_type": "stream",
     "text": [
      "As they should, the three ways to calculate delta return the same values: 0.170, 0.170, and 0.170.\n"
     ]
    }
   ],
   "source": [
    "P1 = np.identity(N) - V@LA.inv(V.T@V)@V.T    # orthogonal projector onto the orthogonal complement of V\n",
    "P2 = L.T@L                                   # orthogonal projector onto the range of L'\n",
    "C = L@V                                      # cross-gramian (see the appendix)\n",
    "b = LA.inv(C.T@C)@(C.T@y)\n",
    "a = y - C@b\n",
    "f_0 = V@b                                    # the regularized solution corresponding to tau=0\n",
    "f_1 = L.T@a + V@b                            # the regularized solution corresponding to tau=1\n",
    "delta = LA.norm(f_0-f_1)                     # the parameter in the implicit equation defining tau_#\n",
    "delta_0 = LA.norm(L@f_0-y)                   # a second way to calculate delta\n",
    "delta_1 = LA.norm(P1@f_1)                    # a third way to calculate delta\n",
    "print('As they should, the three ways to calculate delta return '\n",
    "      'the same values: {:.3f}, {:.3f}, and {:.3f}.'.format(delta,delta_0,delta_1))"
   ]
  },
  {
   "cell_type": "markdown",
   "metadata": {},
   "source": [
    "### Newton method for finding the optimal parameter\n",
    "We devise below our own Newton method to solve the equation implicitly defining the parameter $\\tau_\\#$."
   ]
  },
  {
   "cell_type": "code",
   "execution_count": 8,
   "metadata": {},
   "outputs": [],
   "source": [
    "# the smallest eigenvalue as a function of t\n",
    "def eigen(t):\n",
    "    return LA.eigh((1-t)*P1+t*P2, eigvals_only=True)[0]\n",
    "\n",
    "# the numerator of the fraction in the RHS and its derivative\n",
    "def nume(t):\n",
    "    return (1-t)**2*epsilon**2 - t**2*eta**2\n",
    "\n",
    "def diff_nume(t):\n",
    "    return -2*(1-t)*epsilon**2 - 2*t*eta**2\n",
    "\n",
    "# the denominator of the fraction in the RHS and its derivative\n",
    "def denom(t):\n",
    "    return (1-t)*epsilon**2 - t*eta**2 + (1-t)*t*(1-2*t)*delta**2\n",
    "\n",
    "def diff_denom(t):\n",
    "    return -epsilon**2 - eta**2 + (1-6*t+6*t**2)*delta**2\n",
    "\n",
    "# define the funtion F and its derivative\n",
    "def F(t):\n",
    "    return eigen(t) - nume(t)/denom(t)\n",
    "\n",
    "def diff_F(t):\n",
    "    return ( (1-2*t)/t/(1-t)*eigen(t)*(1-eigen(t))/(1-2*eigen(t)) \n",
    "            - (diff_nume(t)*denom(t)-diff_denom(t)*nume(t))/denom(t)**2 )\n",
    "    \n",
    "# Find the optimal parameter tau (the zero of F)\n",
    "tau = epsilon/(epsilon+eta)\n",
    "iteration = 25\n",
    "for i in range(iteration):\n",
    "    tau = tau - F(tau)/diff_F(tau)\n",
    "    \n",
    "# For comparison, use Python built-in function to find the zero of F\n",
    "from scipy import optimize\n",
    "tau_builtin = optimize.root_scalar(F, x0=0.5, x1=epsilon/(epsilon+eta), method='secant').root\n",
    "\n",
    "# Compare also with the output of the method from Beck and Eldar\n",
    "# (not guaranteed to yield the optimal parameter in real setting)\n",
    "tau_BE,_,wce_BE = BE(epsilon,eta,y,P1,L)"
   ]
  },
  {
   "cell_type": "code",
   "execution_count": 9,
   "metadata": {},
   "outputs": [
    {
     "name": "stdout",
     "output_type": "stream",
     "text": [
      "With H being a real finite-dimensional Hilbert space and using orthonormal observations,\n",
      " our custom Newton method provides the optimal tau equal to 0.711,\n",
      " the Python built-in function yields the parameter equal to 0.711,\n",
      " and the method of Beck--Eldar returns a parameter equal to 0.711.\n"
     ]
    }
   ],
   "source": [
    "print('With H being a real finite-dimensional Hilbert space and using orthonormal observations,\\n '\n",
    "     'our custom Newton method provides the optimal tau equal to {:.3f},\\n '\n",
    "     'the Python built-in function yields the parameter equal to {:.3f},\\n '\n",
    "     'and the method of Beck--Eldar returns a parameter equal to {:.3f}.'.format(tau,tau_builtin,tau_BE))"
   ]
  },
  {
   "cell_type": "code",
   "execution_count": 10,
   "metadata": {},
   "outputs": [
    {
     "name": "stdout",
     "output_type": "stream",
     "text": [
      "The formula for the local worst-case error gives the value 2.324,\n",
      " which also agrees with the value 2.324 returned by the method of Beck--Eldar.\n"
     ]
    }
   ],
   "source": [
    "lwce_square = (1-tau)/eigen(tau)*epsilon**2 + tau/eigen(tau)*eta**2 - (1-tau)*tau/eigen(tau)*delta**2\n",
    "print('The formula for the local worst-case error gives the value {:.3f},\\n '\n",
    "     'which also agrees with the value {:.3f} returned by the method of Beck--Eldar.'.format(np.sqrt(lwce_square),wce_BE))"
   ]
  },
  {
   "cell_type": "markdown",
   "metadata": {},
   "source": [
    "### Distinct case: $\\mathcal{V}=\\{0\\}$\n",
    "For the distinct case $\\mathcal{V}=\\{0\\}$, the optimal choice of parameter is simply $\\tau_\\# = \\max\\{1-\\eta/\\|y\\|,0\\}$."
   ]
  },
  {
   "cell_type": "code",
   "execution_count": 11,
   "metadata": {},
   "outputs": [
    {
     "name": "stdout",
     "output_type": "stream",
     "text": [
      "The norm of y is 0.248, which is greater than eta, so the optimal parameter is 0.195.\n"
     ]
    }
   ],
   "source": [
    "N = 10\n",
    "P1 = np.identity(N)\n",
    "epsilon = 0.1\n",
    "m = 6\n",
    "L = np.random.randn(m,N)\n",
    "L = LA.inv(LA.sqrtm(L@L.T))@L            # so that L satisfies L*L'=I\n",
    "eta = 0.2\n",
    "aux = np.random.randn(N,1)\n",
    "f = epsilon*aux/LA.norm(aux)\n",
    "aux = np.random.randn(m,1)\n",
    "y = L@f + eta*aux/LA.norm(aux)\n",
    "if LA.norm(y)<= eta:\n",
    "    opt_tau = 0\n",
    "    print('The norm of y is {:.3f}, which is smaller than or equal to eta,'\n",
    "         ' so the optimal parameter is 0.'.format(LA.norm(y)))\n",
    "else:\n",
    "    opt_tau = 1-eta/LA.norm(y)\n",
    "    print('The norm of y is {:.3f}, which is greater than eta,'\n",
    "         ' so the optimal parameter is {:.3f}.'.format(LA.norm(y),opt_tau))"
   ]
  },
  {
   "cell_type": "code",
   "execution_count": 12,
   "metadata": {},
   "outputs": [
    {
     "name": "stdout",
     "output_type": "stream",
     "text": [
      "The parameter obtained after solving the semidefinite program of Beck--Eldar is 0.195,\n",
      " which agrees with the value of the optimal parameter given by the above formula.\n"
     ]
    }
   ],
   "source": [
    "# Here too, the method of Beck--Eldar seems to give the correct parameter\n",
    "tau_BE,_,_ = BE(epsilon,eta,y,P1,L)\n",
    "print('The parameter obtained after solving the semidefinite program of Beck--Eldar is {:.3f},\\n '\n",
    "     'which agrees with the value of the optimal parameter given by the above formula.'.format(tau_BE))"
   ]
  },
  {
   "cell_type": "markdown",
   "metadata": {},
   "source": [
    "## G1: Globally optimal recovery with arbitrary observations"
   ]
  },
  {
   "cell_type": "markdown",
   "metadata": {},
   "source": [
    "For any $\\tau\\in(0,1)$, let $\\Delta:\\mathbb{R}^m\\to H$ denote the recovery map based on regularization with parameter $\\tau$, so that $\\Delta_\\tau(y) = ((1-\\tau)P_{\\mathcal{V}^\\perp}+\\tau \\Lambda^*\\Lambda)^{-1}(\\tau \\Lambda^*y)$. \n",
    "The global worst-case error of $\\Delta_\\tau$ is upper bounded as \n",
    "\n",
    "\\begin{align*}\n",
    "\\mathrm{gwce}(\\Delta_\\tau)^2 \\leq &\\min\\limits_{c,d\\geq0} c\\varepsilon^2+d\\eta^2 \\\\ \n",
    "&\\mbox{s.to} \\quad\n",
    "\\left[\\matrix{\n",
    "c P_{\\mathcal{V}^\\perp} & | & 0\n",
    "\\cr \\hline\n",
    "0 & | & d \\, \\mathrm{Id}_{\\mathbb{R}^m}}\\right]\n",
    "\\succeq  \\left[\\matrix{\\mathrm{Id} - \\Lambda^* \\Delta_\\tau^* \\cr \\hline \\Delta_\\tau^*}\\right]\n",
    "\\left[\\matrix{ \\mathrm{Id} - \\Delta_\\tau \\Lambda \\; | \\; \\Delta_\\tau}\\right].\n",
    "\\end{align*}\n",
    "\n",
    "It is also lower-bounded as \n",
    "$$ \n",
    "\\mathrm{gwce}(\\Delta_\\tau)^2 \\geq \\mathop{\\mathrm{minimize}}\\limits_{c,d \\ge 0} \\; \\varepsilon^2 c + \\eta^2 d\n",
    "\\qquad \\mbox{s.to}  \\quad\n",
    "c P_{\\mathcal{V}^\\perp} + d \\Lambda^* \\Lambda \\succeq \\mathrm{Id}. $$\n",
    "\n",
    "The upper and lower bounds agree at the parameter $\\tau = d/(c+d)$, where $c,d$ are solutions to the latter semidefinite program."
   ]
  },
  {
   "cell_type": "markdown",
   "metadata": {},
   "source": [
    "### Program setting\n",
    "We adopt the same problem setting as before"
   ]
  },
  {
   "cell_type": "code",
   "execution_count": 13,
   "metadata": {},
   "outputs": [],
   "source": [
    "N = 50\n",
    "n = 15\n",
    "V = np.random.rand(N,n)\n",
    "P1 = np.identity(N) - V@LA.inv(V.T@V)@V.T\n",
    "epsilon = 0.4\n",
    "m = 25\n",
    "L = np.random.randn(m,N)\n",
    "eta = 0.3"
   ]
  },
  {
   "cell_type": "markdown",
   "metadata": {},
   "source": [
    "### Illustration of the agreement between the upper and lower bounds at the optimal parameter\n",
    "We compute the lower bound first."
   ]
  },
  {
   "cell_type": "code",
   "execution_count": 14,
   "metadata": {},
   "outputs": [],
   "source": [
    "c = cp.Variable((1,1),nonneg=True)\n",
    "d = cp.Variable((1,1),nonneg=True)\n",
    "objective = cp.Minimize(c*epsilon**2+d*eta**2)\n",
    "constraints = [cp.multiply(c,P1)+cp.multiply(d,L.T@L)-np.identity(N)>>0]\n",
    "G1 = cp.Problem(objective,constraints)\n",
    "G1.solve()\n",
    "c = c.value[0,0]\n",
    "d = d.value[0,0]\n",
    "lower_bound = np.sqrt(c*epsilon**2+d*eta**2)\n",
    "opt_tau = d/(c+d)"
   ]
  },
  {
   "cell_type": "markdown",
   "metadata": {},
   "source": [
    "Next, we compute the upper bounds on a grid of values of $\\tau\\in(0,1)$."
   ]
  },
  {
   "cell_type": "code",
   "execution_count": 15,
   "metadata": {},
   "outputs": [],
   "source": [
    "T = 99\n",
    "range_tau = np.linspace(0.01,0.99,T)\n",
    "upper_bound = np.zeros(T)\n",
    "for i in range(T):\n",
    "    tau = range_tau[i]\n",
    "    Delta_tau = tau*LA.inv((1-tau)*P1+tau*L.T@L)@L.T\n",
    "    c = cp.Variable((1,1),nonneg=True)\n",
    "    d = cp.Variable((1,1),nonneg=True)\n",
    "    objective = cp.Minimize(c*epsilon**2+d*eta**2)\n",
    "    a11 = cp.multiply(c,P1) - (np.identity(N)-L.T@Delta_tau.T)@(np.identity(N)-Delta_tau@L)\n",
    "    a12 = -(np.identity(N)-L.T@Delta_tau.T)@Delta_tau\n",
    "    a22 = d*np.identity(m) - Delta_tau.T@Delta_tau\n",
    "    constraints = [ cp.vstack( (cp.hstack((a11, a12)),cp.hstack((a12.T,a22))) )>>0]\n",
    "    G1 = cp.Problem(objective,constraints)\n",
    "    G1.solve()\n",
    "    c = c.value[0,0]\n",
    "    d = d.value[0,0]\n",
    "    upper_bound[i] = np.sqrt(c*epsilon**2+d*eta**2)"
   ]
  },
  {
   "cell_type": "markdown",
   "metadata": {},
   "source": [
    "Finally, we visualize the lower bound as well as the upper bounds parametrized by $\\tau$."
   ]
  },
  {
   "cell_type": "code",
   "execution_count": 16,
   "metadata": {},
   "outputs": [
    {
     "data": {
      "image/png": "[encoded data removed]",
      "text/plain": [
       "<Figure size 432x288 with 1 Axes>"
      ]
     },
     "metadata": {
      "needs_background": "light"
     },
     "output_type": "display_data"
    }
   ],
   "source": [
    "plt.plot(range_tau,upper_bound,'r-o',range_tau,lower_bound*np.ones(T),'b-',markerfacecolor='none',markersize=4)\n",
    "plt.legend(['upper bounds','lower bound'])\n",
    "plt.title('Bounds on global worst-case errors of regularization maps')\n",
    "plt.ylabel('global worst-case error')\n",
    "plt.xlabel('regularization parameter')\n",
    "plt.xticks(ticks=[opt_tau])\n",
    "plt.show()"
   ]
  },
  {
   "cell_type": "markdown",
   "metadata": {},
   "source": [
    "## G2: Globally optimal recovery with orthonormal observations"
   ]
  },
  {
   "cell_type": "markdown",
   "metadata": {},
   "source": [
    "Under the orthonormal observations assumption ($\\Lambda^*\\Lambda=\\mathrm{Id}_{\\mathbb{R}^m}$), all the regularization maps $\\Delta_\\tau$ turn out to be globally optimal.\n",
    "\n",
    "To illustrate this numerically, we study the global worst-case error $\\mathrm{gwce}(\\Delta_\\tau)$ by computing a lower bound and upper bounds on a grid of values $\\tau\\in[0,1]$, as in G1 above.\n",
    "We also compare these values to the theoretical value of the global worst-case error, which is \n",
    "\n",
    "$$ \\mathrm{gwce} = \\frac{1-\\tau_\\#}{\\lambda_\\#}\\varepsilon^2 + \\frac{\\tau_\\#}{\\lambda_\\#}\\eta^2,$$\n",
    "\n",
    "where $\\lambda_\\# := \\lambda_\\min((1-\\tau_\\#)P_{\\mathcal{V}^\\perp}+\\tau_\\#\\Lambda^*\\Lambda)$ and $\\tau_\\#$ is the parameter $\\tau$ between $1/2$ and $\\varepsilon/(\\varepsilon+\\eta)$ that satisfies\n",
    "\n",
    "$$ \\lambda_\\min((1-\\tau)P_{\\mathcal{V}^\\perp}+\\tau\\Lambda^*\\Lambda) = \\frac{(1-\\tau)^2\\varepsilon^2-\\tau^2\\eta^2}{(1-\\tau)\\varepsilon^2-\\tau\\eta^2}. \n",
    "$$"
   ]
  },
  {
   "cell_type": "markdown",
   "metadata": {},
   "source": [
    "### Problem setting\n",
    "We adopt the same problem setting as before."
   ]
  },
  {
   "cell_type": "code",
   "execution_count": 17,
   "metadata": {},
   "outputs": [],
   "source": [
    "N = 50\n",
    "n = 15\n",
    "V = np.random.rand(N,n)\n",
    "epsilon = 0.4\n",
    "m = 25\n",
    "L = np.random.randn(m,N)\n",
    "L = LA.inv(LA.sqrtm(L@L.T))@L\n",
    "eta = 0.3\n",
    "P1 = np.identity(N) - V@LA.inv(V.T@V)@V.T\n",
    "P2 = L.T@L\n",
    "C = L@V\n",
    "C_linv = LA.inv(C.T@C)@C.T\n",
    "Delta_0 = V@C_linv\n",
    "Delta_1 = L.T - L.T@C@C_linv + V@C_linv"
   ]
  },
  {
   "cell_type": "markdown",
   "metadata": {},
   "source": [
    "### Verification that all bounds coincide with the theoretical value of the global worst-case error\n",
    "We compute the lower bound first."
   ]
  },
  {
   "cell_type": "code",
   "execution_count": 18,
   "metadata": {},
   "outputs": [],
   "source": [
    "c = cp.Variable((1,1),nonneg=True)\n",
    "d = cp.Variable((1,1),nonneg=True)\n",
    "objective = cp.Minimize(c*epsilon**2+d*eta**2)\n",
    "constraints = [cp.multiply(c,P1)+cp.multiply(d,L.T@L)-np.identity(N)>>0]\n",
    "G1 = cp.Problem(objective,constraints)\n",
    "G1.solve()\n",
    "c = c.value[0,0]\n",
    "d = d.value[0,0]\n",
    "lower_bound = np.sqrt(c*epsilon**2+d*eta**2)"
   ]
  },
  {
   "cell_type": "markdown",
   "metadata": {},
   "source": [
    "Next, we compute the upper bounds on a grid of values of $\\tau\\in[0,1]$."
   ]
  },
  {
   "cell_type": "code",
   "execution_count": 19,
   "metadata": {},
   "outputs": [],
   "source": [
    "T = 101\n",
    "range_tau = np.linspace(0,1,T)\n",
    "upper_bound = np.zeros(T)\n",
    "for i in range(T):\n",
    "    tau = range_tau[i]\n",
    "    Delta_tau = (1-tau)*Delta_0 + tau*Delta_1\n",
    "    c = cp.Variable((1,1),nonneg=True)\n",
    "    d = cp.Variable((1,1),nonneg=True)\n",
    "    objective = cp.Minimize(c*epsilon**2+d*eta**2)\n",
    "    a11 = cp.multiply(c,P1) - (np.identity(N)-L.T@Delta_tau.T)@(np.identity(N)-Delta_tau@L)\n",
    "    a12 = -(np.identity(N)-L.T@Delta_tau.T)@Delta_tau\n",
    "    a22 = d*np.identity(m) - Delta_tau.T@Delta_tau\n",
    "    constraints = [ cp.vstack( (cp.hstack((a11, a12)),cp.hstack((a12.T,a22))) )>>0]\n",
    "    G2 = cp.Problem(objective,constraints)\n",
    "    G2.solve()\n",
    "    c = c.value[0,0]\n",
    "    d = d.value[0,0]\n",
    "    upper_bound[i] = np.sqrt(c*epsilon**2+d*eta**2)"
   ]
  },
  {
   "cell_type": "markdown",
   "metadata": {},
   "source": [
    "Finally, we calculate the theoretical value of the global worst-case error and verify that the previous bounds are all equal to this theoretical value."
   ]
  },
  {
   "cell_type": "code",
   "execution_count": 20,
   "metadata": {},
   "outputs": [
    {
     "name": "stdout",
     "output_type": "stream",
     "text": [
      "The lower bound, upper bounds, and theoretical values are all the same, precisely:\n",
      "the lower bound equals to 3.199, \n",
      "the maximal upper bound is 3.199, \n",
      "and the theoretical value is 3.199.\n"
     ]
    }
   ],
   "source": [
    "def F_G2(t):\n",
    "    return eigen(t)-((1-t)**2*epsilon**2-t**2*eta**2)/((1-t)*epsilon**2-t*eta**2)\n",
    "\n",
    "tau = optimize.root_scalar(F_G2, x0=0.5, x1=epsilon/(epsilon+eta), method='secant').root\n",
    "lambda_sharp = eigen(tau)\n",
    "gwce = np.sqrt((1-tau)*epsilon**2/lambda_sharp + tau*eta**2/lambda_sharp)\n",
    "\n",
    "print('The lower bound, upper bounds, and theoretical values are all the same, precisely:')\n",
    "print('the lower bound equals to {:.3f}, \\n'\n",
    "     'the maximal upper bound is {:.3f}, \\n'\n",
    "     'and the theoretical value is {:.3f}.'.format(lower_bound,max(upper_bound),gwce))"
   ]
  },
  {
   "cell_type": "markdown",
   "metadata": {},
   "source": [
    "## References \n",
    "\n",
    "[1] S. Foucart and C. Liao, \"Optimal recovery from inaccurate data in Hilbert spaces: regularize, but what of the parameter?\", Preprint.\n",
    "\n",
    "[2] S. Diamond and S. Boyd, \"CVXPY: A Python-embedded modeling language for convex optimization\", Journal of Machine Learning Research, 17(83):1–5, 2016."
   ]
  }
 ],
 "metadata": {
  "kernelspec": {
   "display_name": "Python 3",
   "language": "python",
   "name": "python3"
  },
  "language_info": {
   "codemirror_mode": {
    "name": "ipython",
    "version": 3
   },
   "file_extension": ".py",
   "mimetype": "text/x-python",
   "name": "python",
   "nbconvert_exporter": "python",
   "pygments_lexer": "ipython3",
   "version": "3.8.8"
  }
 },
 "nbformat": 4,
 "nbformat_minor": 4
}
